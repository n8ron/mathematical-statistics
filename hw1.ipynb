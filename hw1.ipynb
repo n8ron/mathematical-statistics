{
 "cells": [
  {
   "cell_type": "code",
   "execution_count": 41,
   "metadata": {},
   "outputs": [],
   "source": [
    "import numpy as np\n",
    "import matplotlib.pyplot as plt "
   ]
  },
  {
   "cell_type": "code",
   "execution_count": 42,
   "metadata": {},
   "outputs": [],
   "source": [
    "def calc_std_deviation(thetas, orig_theta):\n",
    "    std_dev = 0\n",
    "    for theta in thetas:\n",
    "        std_dev += (theta - orig_theta) * (theta - orig_theta)\n",
    "    return std_dev / len(thetas)"
   ]
  },
  {
   "cell_type": "markdown",
   "metadata": {},
   "source": [
    "# Uniform"
   ]
  },
  {
   "cell_type": "code",
   "execution_count": 35,
   "metadata": {},
   "outputs": [],
   "source": [
    "n = 1000\n",
    "theta = 1\n",
    "s = 100 \n",
    "k = 100"
   ]
  },
  {
   "cell_type": "code",
   "execution_count": 38,
   "metadata": {},
   "outputs": [],
   "source": [
    "t_x = range(1, k)\n",
    "t_y = []\n",
    "for i_k in range(1, k):\n",
    "    thetas = []\n",
    "    for i_s in range(s):\n",
    "        xs = np.random.uniform(0, theta, n)\n",
    "        m_k = 0\n",
    "        for x in xs:\n",
    "            m_k += x ** i_k\n",
    "        m_k /= n\n",
    "        thetas.append(((i_k + 1) * m_k) ** (1/i_k))\n",
    "    t_y.append(calc_std_deviation(thetas, theta))\n"
   ]
  },
  {
   "cell_type": "code",
   "execution_count": 39,
   "metadata": {},
   "outputs": [
    {
     "data": {
      "text/plain": [
       "[<matplotlib.lines.Line2D at 0x7fa474399460>]"
      ]
     },
     "execution_count": 39,
     "metadata": {},
     "output_type": "execute_result"
    },
    {
     "data": {
      "image/png": "[encoded data removed]",
      "text/plain": [
       "<Figure size 432x288 with 1 Axes>"
      ]
     },
     "metadata": {
      "needs_background": "light"
     },
     "output_type": "display_data"
    }
   ],
   "source": [
    "plt.plot(t_x, t_y)"
   ]
  },
  {
   "cell_type": "markdown",
   "metadata": {},
   "source": [
    "# Exponential"
   ]
  },
  {
   "cell_type": "code",
   "execution_count": 31,
   "metadata": {},
   "outputs": [],
   "source": [
    "n = 1000\n",
    "theta = 1\n",
    "s = 100 \n",
    "k = 100"
   ]
  },
  {
   "cell_type": "code",
   "execution_count": 45,
   "metadata": {},
   "outputs": [],
   "source": [
    "t_x = range(1, k)\n",
    "t_y = []\n",
    "fact = 1\n",
    "for i_k in range(1, k):\n",
    "    fact *= i_k\n",
    "    thetas = []\n",
    "    for i_s in range(s):\n",
    "        xs = np.random.exponential(theta, n)\n",
    "        m_k = 0\n",
    "        for x in xs:\n",
    "            m_k += x ** i_k\n",
    "        m_k /= n\n",
    "        thetas.append((m_k/fact) ** (1/i_k))\n",
    "    t_y.append(calc_std_deviation(thetas, theta))"
   ]
  },
  {
   "cell_type": "code",
   "execution_count": 46,
   "metadata": {},
   "outputs": [
    {
     "data": {
      "text/plain": [
       "[<matplotlib.lines.Line2D at 0x7fa475bc0a00>]"
      ]
     },
     "execution_count": 46,
     "metadata": {},
     "output_type": "execute_result"
    },
    {
     "data": {
      "image/png": "[encoded data removed]",
      "text/plain": [
       "<Figure size 432x288 with 1 Axes>"
      ]
     },
     "metadata": {
      "needs_background": "light"
     },
     "output_type": "display_data"
    }
   ],
   "source": [
    "plt.plot(t_x, t_y)"
   ]
  },
  {
   "cell_type": "code",
   "execution_count": null,
   "metadata": {},
   "outputs": [],
   "source": []
  }
 ],
 "metadata": {
  "kernelspec": {
   "display_name": "Python 3",
   "language": "python",
   "name": "python3"
  },
  "language_info": {
   "codemirror_mode": {
    "name": "ipython",
    "version": 3
   },
   "file_extension": ".py",
   "mimetype": "text/x-python",
   "name": "python",
   "nbconvert_exporter": "python",
   "pygments_lexer": "ipython3",
   "version": "3.8.5"
  }
 },
 "nbformat": 4,
 "nbformat_minor": 4
}
